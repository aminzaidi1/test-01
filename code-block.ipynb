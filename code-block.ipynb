{
 "cells": [
  {
   "cell_type": "code",
   "execution_count": 2,
   "id": "92fab803",
   "metadata": {},
   "outputs": [
    {
     "name": "stdout",
     "output_type": "stream",
     "text": [
      "Transcription: Proceedings needed to plant the spring corn.\n"
     ]
    }
   ],
   "source": [
    "import azure.cognitiveservices.speech as speechsdk\n",
    "import config\n",
    "\n",
    "speech_key = config.SPEECH_KEY\n",
    "service_region = config.SERVICE_REGION\n",
    "\n",
    "speech_config = speechsdk.SpeechConfig(subscription=speech_key, region=service_region)\n",
    "\n",
    "# Rest of your code\n",
    "audio_file_path = \"sampleaudio.wav\"\n",
    "audio_input = speechsdk.AudioConfig(filename=audio_file_path)\n",
    "speech_recognizer = speechsdk.SpeechRecognizer(speech_config=speech_config, audio_config=audio_input)\n",
    "result = speech_recognizer.recognize_once()\n",
    "\n",
    "if result.reason == speechsdk.ResultReason.RecognizedSpeech:\n",
    "    print(\"Transcription:\", result.text)\n",
    "elif result.reason == speechsdk.ResultReason.NoMatch:\n",
    "    print(\"No speech could be recognized.\")\n",
    "elif result.reason == speechsdk.ResultReason.Canceled:\n",
    "    cancellation_details = result.cancellation_details\n",
    "    print(\"Speech Recognition canceled:\", cancellation_details.reason)\n",
    "    if cancellation_details.reason == speechsdk.CancellationReason.Error:\n",
    "        print(\"Error details:\", cancellation_details.error_details)"
   ]
  },
  {
   "cell_type": "code",
   "execution_count": 4,
   "id": "74a9a7b4",
   "metadata": {},
   "outputs": [
    {
     "name": "stdout",
     "output_type": "stream",
     "text": [
      "Objects detected (Azure Vision):\n",
      "person (confidence: 0.88)\n",
      "person (confidence: 0.762)\n"
     ]
    }
   ],
   "source": [
    "import io\n",
    "from azure.cognitiveservices.vision.computervision import ComputerVisionClient\n",
    "from msrest.authentication import CognitiveServicesCredentials\n",
    "import config1\n",
    "\n",
    "subscription_key = config1.AZURE_SUBSCRIPTION_KEY\n",
    "endpoint = config1.AZURE_ENDPOINT\n",
    "\n",
    "client = ComputerVisionClient(endpoint, CognitiveServicesCredentials(subscription_key))\n",
    "\n",
    "def analyze_image_azure(image_path):\n",
    "    with open(image_path, 'rb') as image_file:\n",
    "        image_data = image_file.read()\n",
    "\n",
    "    image_stream = io.BytesIO(image_data)\n",
    "\n",
    "    analysis = client.analyze_image_in_stream(image_stream, visual_features=['Objects'])\n",
    "\n",
    "    print('Objects detected (Azure Vision):')\n",
    "    for obj in analysis.objects:\n",
    "        print(f'{obj.object_property} (confidence: {obj.confidence})')\n",
    "\n",
    "azure_image_file_path = 'rusty.jpg'\n",
    "analyze_image_azure(azure_image_file_path)"
   ]
  },
  {
   "cell_type": "code",
   "execution_count": 3,
   "id": "369fced0",
   "metadata": {},
   "outputs": [],
   "source": [
    "import os\n",
    "from google.cloud import vision\n",
    "from google.cloud import storage\n",
    "\n",
    "os.environ[\"GOOGLE_APPLICATION_CREDENTIALS\"] = \"gcp-key.json\"\n",
    "\n",
    "vision_client = vision.ImageAnnotatorClient()\n",
    "\n",
    "storage_client = storage.Client()\n",
    "\n",
    "def analyze_image_gcp(image_uri):\n",
    "    image = vision.Image()\n",
    "    image.source.image_uri = image_uri\n",
    "\n",
    "    response = vision_client.object_localization(image=image)\n",
    "    objects = response.localized_object_annotations\n",
    "\n",
    "    print('Objects detected (GCP Vision):')\n",
    "    for object_ in objects:\n",
    "        print(f'{object_.name} (confidence: {object_.confidence:.2f})')\n",
    "\n",
    "    if response.error.message:\n",
    "        raise Exception(f'{response.error.message}')\n",
    "\n",
    "bucket_name = 'hha-main-bucket'\n",
    "image_filename = 'rusty.jpg'  \n",
    "image_uri = f'gs://{bucket_name}/{image_filename}'\n",
    "\n",
    "analyze_image_gcp(image_uri)"
   ]
  },
  {
   "cell_type": "code",
   "execution_count": null,
   "id": "14439cff",
   "metadata": {},
   "outputs": [],
   "source": []
  }
 ],
 "metadata": {
  "kernelspec": {
   "display_name": "Python 3 (ipykernel)",
   "language": "python",
   "name": "python3"
  },
  "language_info": {
   "codemirror_mode": {
    "name": "ipython",
    "version": 3
   },
   "file_extension": ".py",
   "mimetype": "text/x-python",
   "name": "python",
   "nbconvert_exporter": "python",
   "pygments_lexer": "ipython3",
   "version": "3.11.5"
  }
 },
 "nbformat": 4,
 "nbformat_minor": 5
}
